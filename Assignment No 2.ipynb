{
 "cells": [
  {
   "cell_type": "code",
   "execution_count": 1,
   "metadata": {},
   "outputs": [
    {
     "name": "stdout",
     "output_type": "stream",
     "text": [
      "Enter marks of the first subject: 70\n",
      "Enter marks of the second subject: 78\n",
      "Enter marks of the third subject: 79\n",
      "Enter marks of the fourth subject: 87\n",
      "Enter marks of the fifth subject: 90\n",
      "Grade: B\n"
     ]
    }
   ],
   "source": [
    "subject_1=int(input(\"Enter marks of the first subject: \"))\n",
    "subject_2=int(input(\"Enter marks of the second subject: \"))\n",
    "subject_3=int(input(\"Enter marks of the third subject: \"))\n",
    "subject_4=int(input(\"Enter marks of the fourth subject: \"))\n",
    "subject_5=int(input(\"Enter marks of the fifth subject: \"))\n",
    "avg=(subject_1+subject_2+subject_3+subject_4+subject_5)/5\n",
    "if(avg>=90):\n",
    "    print(\"Grade: A\")\n",
    "elif(avg>=80 and avg<90):\n",
    "    print(\"Grade: B\")\n",
    "elif(avg>=70 and avg<80):\n",
    "    print(\"Grade: C\")\n",
    "elif(avg>=60 and avg<70):\n",
    "    print(\"Grade: D\")\n",
    "else:\n",
    "    print(\"Grade: F\")"
   ]
  },
  {
   "cell_type": "code",
   "execution_count": 4,
   "metadata": {},
   "outputs": [
    {
     "name": "stdout",
     "output_type": "stream",
     "text": [
      "Enter any number:67\n",
      "The number is Odd\n"
     ]
    }
   ],
   "source": [
    "Number_1 =int(input(\"Enter any number:\"))\n",
    "number = Number_1\n",
    "if ( number% 2==0):\n",
    "    print(\"The number is Even\")\n",
    "else:\n",
    "    print (\"The number is Odd\")"
   ]
  },
  {
   "cell_type": "code",
   "execution_count": 11,
   "metadata": {},
   "outputs": [
    {
     "name": "stdout",
     "output_type": "stream",
     "text": [
      "The Length of list_1 is :  6\n"
     ]
    }
   ],
   "source": [
    "list_1 = []\n",
    "\n",
    "list_1.append(\"Moiz\")\n",
    "list_1.append(\"Shabbir\")\n",
    "list_1.append(\"Mustafa\")\n",
    "list_1.append(\"Burhanuddin\")\n",
    "list_1.append(\"Jaffer\")\n",
    "list_1.append(\"Talha\")\n",
    "print(\"The Length of list_1 is : \" , len(list_1))\n",
    "\n",
    "\n"
   ]
  },
  {
   "cell_type": "code",
   "execution_count": 25,
   "metadata": {},
   "outputs": [
    {
     "name": "stdout",
     "output_type": "stream",
     "text": [
      "165\n"
     ]
    }
   ],
   "source": [
    "total = 0\n",
    "list1 = [1,34,54,2,46,7,4,8,9]\n",
    "total += sum(list1[0:len(list1)])\n",
    "print(total)"
   ]
  },
  {
   "cell_type": "code",
   "execution_count": 19,
   "metadata": {},
   "outputs": [
    {
     "name": "stdout",
     "output_type": "stream",
     "text": [
      "Largest element is: 975\n"
     ]
    }
   ],
   "source": [
    "list1 =[13,21,777,587,975,234,34,55,89]\n",
    "\n",
    "print(\"Largest element is:\", max(list1))"
   ]
  },
  {
   "cell_type": "code",
   "execution_count": 20,
   "metadata": {},
   "outputs": [
    {
     "name": "stdout",
     "output_type": "stream",
     "text": [
      "1\n",
      "1\n",
      "2\n",
      "3\n"
     ]
    }
   ],
   "source": [
    "a = [1,1,2,3,5,8,13,21,34,55,89]\n",
    "\n",
    "if(a[0]<5):\n",
    "    print (a[0])\n",
    "if(a[1]<5):\n",
    "    print (a[1])\n",
    "if(a[2]<5):\n",
    "    print (a[2])\n",
    "if(a[3]<5):\n",
    "    print (a[3])\n",
    "if(a[4]<5):\n",
    "    print (a[4])\n",
    "if(a[5]<5):\n",
    "    print (a[5])\n",
    "if(a[6]<5):\n",
    "    prin (a[6])\n",
    "if(a[7]<=5):\n",
    "    print (a[7])\n",
    "if(a[8]<5):\n",
    "    print (a[8])\n",
    "if(a[9]<5):\n",
    "    print (a[9])"
   ]
  },
  {
   "cell_type": "code",
   "execution_count": null,
   "metadata": {},
   "outputs": [],
   "source": []
  }
 ],
 "metadata": {
  "kernelspec": {
   "display_name": "Python 3",
   "language": "python",
   "name": "python3"
  },
  "language_info": {
   "codemirror_mode": {
    "name": "ipython",
    "version": 3
   },
   "file_extension": ".py",
   "mimetype": "text/x-python",
   "name": "python",
   "nbconvert_exporter": "python",
   "pygments_lexer": "ipython3",
   "version": "3.7.4"
  }
 },
 "nbformat": 4,
 "nbformat_minor": 2
}
