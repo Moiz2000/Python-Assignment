{
 "cells": [
  {
   "cell_type": "code",
   "execution_count": 21,
   "metadata": {},
   "outputs": [
    {
     "name": "stdout",
     "output_type": "stream",
     "text": [
      "Answer 1\n",
      "\n",
      "Twinkle, Twinkel, Little Star,\n",
      "\tHow I wonder what you are!\n",
      "\t\tUp above the world so high,\n",
      "\t\tLike a diamond in the sky.\n",
      "Twinkle, Twinkel, Little Star,\n",
      "\tHow I wonder what you are!\n"
     ]
    }
   ],
   "source": [
    "print(\"Answer no 1\"+\"\\n\")\n",
    "print(\"Twinkle, Twinkel, Little Star,\")\n",
    "print(\"\\t\"+\"How I wonder what you are!\")\n",
    "print(\"\\t\"+\"\\t\"+\"Up above the world so high,\")\n",
    "print(\"\\t\"+\"\\t\"+\"Like a diamond in the sky.\")\n",
    "print(\"Twinkle, Twinkel, Little Star,\")\n",
    "print(\"\\t\"+\"How I wonder what you are!\")"
   ]
  },
  {
   "cell_type": "code",
   "execution_count": 9,
   "metadata": {},
   "outputs": [
    {
     "name": "stdout",
     "output_type": "stream",
     "text": [
      "Python Version\n",
      "\n",
      "3.7.4 (default, Aug  9 2019, 18:34:13) [MSC v.1915 64 bit (AMD64)]\n",
      "Python Version Info\n",
      "\n",
      "sys.version_info(major=3, minor=7, micro=4, releaselevel='final', serial=0)\n"
     ]
    }
   ],
   "source": [
    "print(\"Answer no 2\"+\"\\n\")\n",
    "import sys\n",
    "\n",
    "print (\"Python Version\"+\"\\n\")\n",
    "print(sys.version)\n",
    "print (\"Python Version Info\"+\"\\n\")\n",
    "print(sys.version_info)"
   ]
  },
  {
   "cell_type": "code",
   "execution_count": 22,
   "metadata": {},
   "outputs": [
    {
     "name": "stdout",
     "output_type": "stream",
     "text": [
      "Answer 3\n",
      "\n",
      "2019-11-05 10:08:33.007287\n"
     ]
    }
   ],
   "source": [
    "print(\"Answer no 3\"+\"\\n\")\n",
    "import datetime\n",
    "now = datetime.datetime.now()\n",
    "print(now)"
   ]
  },
  {
   "cell_type": "code",
   "execution_count": 25,
   "metadata": {},
   "outputs": [
    {
     "name": "stdout",
     "output_type": "stream",
     "text": [
      "Answer no 4\n",
      "\n",
      "Enter radius of a circle  6\n",
      "Area of Circle is  113.112\n"
     ]
    }
   ],
   "source": [
    "print(\"Answer no 4\"+\"\\n\")\n",
    "pie = 3.142\n",
    "radius = int(input(\"Enter radius of a circle  \"));\n",
    "r= radius**2\n",
    "Area = r*pie\n",
    "print (\"Area of Circle is \",+ Area)\n",
    "\n",
    "    "
   ]
  },
  {
   "cell_type": "code",
   "execution_count": 36,
   "metadata": {},
   "outputs": [
    {
     "name": "stdout",
     "output_type": "stream",
     "text": [
      "Answer no 5\n",
      "\n",
      "Enter your First Name  Ali\n",
      "Enter your Last Name  Rizvi\n",
      "Ali Rizvi\n",
      "\n",
      "In Reverse Order\n",
      "\n",
      "Rizvi Ali\n"
     ]
    }
   ],
   "source": [
    "print(\"Answer no 5\"+\"\\n\")\n",
    "a = (input(\"Enter your First Name  \"));\n",
    "b = (input(\"Enter your Last Name  \"));\n",
    "c= a +\" \"+ b+\"\\n\"\n",
    "print (c)\n",
    "\n",
    "print (\"In Reverse Order\"+\"\\n\")\n",
    "print(b+\" \"+ a)\n"
   ]
  },
  {
   "cell_type": "code",
   "execution_count": 34,
   "metadata": {},
   "outputs": [
    {
     "name": "stdout",
     "output_type": "stream",
     "text": [
      "Answer no 6\n",
      "\n",
      "Enter your First Number  6\n",
      "Enter your Second Number  7\n",
      "13\n"
     ]
    }
   ],
   "source": [
    "print(\"Answer no 6\"+\"\\n\")\n",
    "a = int(input(\"Enter your First Number  \"));\n",
    "b = int(input(\"Enter your Second Number  \"));\n",
    "c= a+b\n",
    "print (c)"
   ]
  },
  {
   "cell_type": "code",
   "execution_count": null,
   "metadata": {},
   "outputs": [],
   "source": []
  }
 ],
 "metadata": {
  "kernelspec": {
   "display_name": "Python 3",
   "language": "python",
   "name": "python3"
  },
  "language_info": {
   "codemirror_mode": {
    "name": "ipython",
    "version": 3
   },
   "file_extension": ".py",
   "mimetype": "text/x-python",
   "name": "python",
   "nbconvert_exporter": "python",
   "pygments_lexer": "ipython3",
   "version": "3.7.4"
  }
 },
 "nbformat": 4,
 "nbformat_minor": 2
}
