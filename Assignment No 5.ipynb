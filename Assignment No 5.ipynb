{
 "cells": [
  {
   "cell_type": "code",
   "execution_count": 1,
   "metadata": {},
   "outputs": [
    {
     "name": "stdout",
     "output_type": "stream",
     "text": [
      "Enter a Non-Negative-Integer Number:9\n",
      "The Factorial of input Number are:  362880\n"
     ]
    }
   ],
   "source": [
    "def factorial(num):\n",
    "    if num == 0:\n",
    "        return 1\n",
    "    if num > 0:\n",
    "        result = num * factorial(num - 1)\n",
    "        return result\n",
    "\n",
    "num = int(input(\"Enter a Non-Negative-Integer Number:\"))\n",
    "\n",
    "if num >= 0:\n",
    "    result = factorial(num)\n",
    "    print(\"The Factorial of input Number are: \",result)\n",
    "else:\n",
    "    print(\"You Input a Wrong Number\")"
   ]
  },
  {
   "cell_type": "code",
   "execution_count": 3,
   "metadata": {},
   "outputs": [
    {
     "name": "stdout",
     "output_type": "stream",
     "text": [
      "Enter any String: MoIz FakHRuddIn\n",
      "Your Entered Strings has 6 upper characters and 8 lower characters\n"
     ]
    }
   ],
   "source": [
    "def upperlower(strings):\n",
    "    upperstr = 0\n",
    "    lowerstr = 0\n",
    "    for string in strings:\n",
    "        if string.isupper() == True:\n",
    "            upperstr += 1\n",
    "        elif string.islower() == True:\n",
    "            lowerstr += 1\n",
    "    print(f\"Your Entered Strings has {upperstr} upper characters and {lowerstr} lower characters\")\n",
    "strings = input(\"Enter any String: \")\n",
    "upperlower(strings)"
   ]
  },
  {
   "cell_type": "code",
   "execution_count": 4,
   "metadata": {},
   "outputs": [
    {
     "name": "stdout",
     "output_type": "stream",
     "text": [
      "The Even Number in your defined list:\n",
      "[2, 4, 6, 8, 10]\n"
     ]
    }
   ],
   "source": [
    "def even(lists):\n",
    "    Even = []\n",
    "    for check in lists:\n",
    "        if check % 2 == 0:\n",
    "            Even.append(check)\n",
    "    print(f\"The Even Number in your defined list:\\n{Even}\")\n",
    "    \n",
    "lists = [1, 2, 3, 4, 5, 6, 7, 8, 9, 10]\n",
    "even(lists)"
   ]
  },
  {
   "cell_type": "code",
   "execution_count": 5,
   "metadata": {},
   "outputs": [
    {
     "name": "stdout",
     "output_type": "stream",
     "text": [
      "Enter any word: racecar\n",
      "Your Entered words \"racecar\" are Palindrome\n"
     ]
    }
   ],
   "source": [
    "word = input(\"Enter any word: \")\n",
    "palindrome = \"\"\n",
    "for letter in word[-1::-1].lower():\n",
    "    palindrome = palindrome + letter\n",
    "if palindrome == word.lower():\n",
    "    print(f\"Your Entered words \\\"{word}\\\" are Palindrome\")\n",
    "else:\n",
    "    print(f\"Your Entered words {word} are not Palindrome\")"
   ]
  },
  {
   "cell_type": "code",
   "execution_count": 6,
   "metadata": {},
   "outputs": [
    {
     "name": "stdout",
     "output_type": "stream",
     "text": [
      "Enter a number: 23\n",
      "23 is a prime number!\n"
     ]
    }
   ],
   "source": [
    "def prime(num):\n",
    "    count=0\n",
    "    for i in range(1,num + 1):\n",
    "        if num % i == 0:\n",
    "            count += 1\n",
    "    if count == 2:\n",
    "        print(num,\"is a prime number!\")\n",
    "    else:\n",
    "        print(num,\"is not a prime number!\")\n",
    "        \n",
    "num = int(input(\"Enter a number: \"))\n",
    "prime(num)"
   ]
  },
  {
   "cell_type": "code",
   "execution_count": 7,
   "metadata": {},
   "outputs": [
    {
     "name": "stdout",
     "output_type": "stream",
     "text": [
      "The Customer Shopping's list are: \n",
      "Patato\n",
      "Tooth Brush\n",
      "Zinger\n",
      "Tomato\n",
      "Bread\n"
     ]
    }
   ],
   "source": [
    "def items(*item):\n",
    "    print(\"The Customer Shopping's list are: \")\n",
    "    for value in item:\n",
    "        print(value)\n",
    "items(\"Patato\", \"Tooth Brush\", \"Zinger\", \"Tomato\",\"Bread\")"
   ]
  },
  {
   "cell_type": "code",
   "execution_count": null,
   "metadata": {},
   "outputs": [],
   "source": []
  }
 ],
 "metadata": {
  "kernelspec": {
   "display_name": "Python 3",
   "language": "python",
   "name": "python3"
  },
  "language_info": {
   "codemirror_mode": {
    "name": "ipython",
    "version": 3
   },
   "file_extension": ".py",
   "mimetype": "text/x-python",
   "name": "python",
   "nbconvert_exporter": "python",
   "pygments_lexer": "ipython3",
   "version": "3.7.4"
  }
 },
 "nbformat": 4,
 "nbformat_minor": 2
}
