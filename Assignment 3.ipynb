{
 "cells": [
  {
   "cell_type": "code",
   "execution_count": 1,
   "metadata": {},
   "outputs": [
    {
     "name": "stdout",
     "output_type": "stream",
     "text": [
      "Enter First Value 5\n",
      "Enter Second Value 6\n",
      "select Operator +\n",
      "11\n"
     ]
    }
   ],
   "source": [
    "input1 = int(input('Enter First Value '))\n",
    "input2 = int(input('Enter Second Value '))\n",
    "select = input(\"select Operator \")\n",
    "\n",
    "if select == '**': \n",
    "    Answer = input1 ** input2\n",
    "    print(Answer) \n",
    "elif select == '-':\n",
    "    Answer == input1 - input2\n",
    "    print(Answer)\n",
    "elif select == '+': \n",
    "    Answer = input1 + input2\n",
    "    print(Answer) \n",
    "elif select == '*': \n",
    "    Answer = input1 * input2\n",
    "    print(Answer) \n",
    "elif select == '/': \n",
    "    Answer = input1 / input2\n",
    "    print(Answer)\n",
    "else: \n",
    "    print(\"Invalid operator has been slected\") "
   ]
  },
  {
   "cell_type": "code",
   "execution_count": 39,
   "metadata": {},
   "outputs": [
    {
     "name": "stdout",
     "output_type": "stream",
     "text": [
      "Numeric Value not Found.\n",
      "Found a numeric value\n",
      "Numeric Value not Found.\n",
      "Found a numeric value\n"
     ]
    }
   ],
   "source": [
    "list = [\"a\", 20,\"b\", 3,]\n",
    "\n",
    "for element in list:\n",
    "    if type(element).__name__ == 'int':\n",
    "        print(\"Found a numeric value\")\n",
    "    else:\n",
    "        print(\"Numeric Value not Found.\")"
   ]
  },
  {
   "cell_type": "code",
   "execution_count": 24,
   "metadata": {},
   "outputs": [
    {
     "name": "stdout",
     "output_type": "stream",
     "text": [
      "{'first name': 'Moiz', 'last name': 'fakhruddin'}\n",
      "{'first name': 'Moiz', 'last name': 'fakhruddin', 'language': 'URDU'}\n"
     ]
    }
   ],
   "source": [
    "info = {\"first name\" :\"Moiz\" ,\n",
    "        \"last name\" : \"fakhruddin\"\n",
    "       }\n",
    "print(info)\n",
    "info[\"language\"] = 'URDU'\n",
    "print(info)"
   ]
  },
  {
   "cell_type": "code",
   "execution_count": 6,
   "metadata": {},
   "outputs": [
    {
     "name": "stdout",
     "output_type": "stream",
     "text": [
      "1500\n"
     ]
    }
   ],
   "source": [
    "list1 = {'a': 100, 'b':200 ,'c':300,'d':400,'e':500}\n",
    "print(sum(list1.values()))"
   ]
  },
  {
   "cell_type": "code",
   "execution_count": 7,
   "metadata": {},
   "outputs": [
    {
     "name": "stdout",
     "output_type": "stream",
     "text": [
      "Duplicate values in given list: \n",
      "2\n",
      "3\n",
      "8\n"
     ]
    }
   ],
   "source": [
    "list = [1, 2, 3, 4, 2, 7, 8, 8, 3];     \n",
    "     \n",
    "print(\"Duplicate values in given list: \");    \n",
    "   \n",
    "for i in range(0, len(list)):    \n",
    "    for j in range(i+1, len(list)):    \n",
    "        if(list[i] == list[j]):    \n",
    "            print(list[j]);    "
   ]
  },
  {
   "cell_type": "code",
   "execution_count": 11,
   "metadata": {},
   "outputs": [
    {
     "name": "stdout",
     "output_type": "stream",
     "text": [
      "Key is present in the dictionary\n"
     ]
    }
   ],
   "source": [
    "d = {1: 10, 2: 20, 3: 30, 4: 40, 5: 50, 6: 60}\n",
    "def is_key_present(x):\n",
    "    if x in d:\n",
    "        print('Key is present in the dictionary')\n",
    "    else:\n",
    "        print('Key is not present in the dictionary')\n",
    "is_key_present(5)"
   ]
  },
  {
   "cell_type": "code",
   "execution_count": null,
   "metadata": {},
   "outputs": [],
   "source": []
  }
 ],
 "metadata": {
  "kernelspec": {
   "display_name": "Python 3",
   "language": "python",
   "name": "python3"
  },
  "language_info": {
   "codemirror_mode": {
    "name": "ipython",
    "version": 3
   },
   "file_extension": ".py",
   "mimetype": "text/x-python",
   "name": "python",
   "nbconvert_exporter": "python",
   "pygments_lexer": "ipython3",
   "version": "3.7.4"
  }
 },
 "nbformat": 4,
 "nbformat_minor": 2
}
